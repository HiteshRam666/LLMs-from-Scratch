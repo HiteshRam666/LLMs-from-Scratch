{
  "nbformat": 4,
  "nbformat_minor": 0,
  "metadata": {
    "colab": {
      "provenance": []
    },
    "kernelspec": {
      "name": "python3",
      "display_name": "Python 3"
    },
    "language_info": {
      "name": "python"
    }
  },
  "cells": [
    {
      "cell_type": "markdown",
      "source": [
        "## **SELF ATTENTION WITH TRAINABLE WEIGHTS**"
      ],
      "metadata": {
        "id": "069jzC-Eyk4n"
      }
    },
    {
      "cell_type": "code",
      "execution_count": 1,
      "metadata": {
        "id": "z61AKYlzyjVm"
      },
      "outputs": [],
      "source": [
        "import torch\n",
        "import torch.nn as nn\n",
        "\n",
        "inputs = torch.tensor(\n",
        "  [[0.43, 0.15, 0.89], # Your     (x^1)\n",
        "   [0.55, 0.87, 0.66], # journey  (x^2)\n",
        "   [0.57, 0.85, 0.64], # starts   (x^3)\n",
        "   [0.22, 0.58, 0.33], # with     (x^4)\n",
        "   [0.77, 0.25, 0.10], # one      (x^5)\n",
        "   [0.05, 0.80, 0.55]] # step     (x^6)\n",
        ")"
      ]
    },
    {
      "cell_type": "code",
      "source": [
        "inputs.shape"
      ],
      "metadata": {
        "colab": {
          "base_uri": "https://localhost:8080/"
        },
        "id": "q3iKecoR1cHb",
        "outputId": "e7369748-73f6-42f1-ea14-3cd139ac9210"
      },
      "execution_count": 2,
      "outputs": [
        {
          "output_type": "execute_result",
          "data": {
            "text/plain": [
              "torch.Size([6, 3])"
            ]
          },
          "metadata": {},
          "execution_count": 2
        }
      ]
    },
    {
      "cell_type": "code",
      "source": [
        "x = inputs[1]\n",
        "d_in = inputs.shape[1]\n",
        "d_out = 2"
      ],
      "metadata": {
        "id": "DFk67Ajzyy1e"
      },
      "execution_count": 3,
      "outputs": []
    },
    {
      "cell_type": "code",
      "source": [
        "torch.manual_seed(123)\n",
        "W_query = nn.Parameter(torch.rand(d_in, d_out), requires_grad=False)\n",
        "W_key = nn.Parameter(torch.rand(d_in, d_out), requires_grad=False)\n",
        "W_value = nn.Parameter(torch.rand(d_in, d_out), requires_grad=False)"
      ],
      "metadata": {
        "id": "vCRl0gH-y3bt"
      },
      "execution_count": 4,
      "outputs": []
    },
    {
      "cell_type": "code",
      "source": [
        "print(f\"W_query: \\n{W_query}\")\n",
        "print(f\"\\nW_key: \\n{W_key}\")\n",
        "print(f\"\\nW_value: \\n{W_value}\")"
      ],
      "metadata": {
        "colab": {
          "base_uri": "https://localhost:8080/"
        },
        "id": "xA1UYzO9y8To",
        "outputId": "086a5e91-81c0-445c-8581-81a67b42c446"
      },
      "execution_count": 5,
      "outputs": [
        {
          "output_type": "stream",
          "name": "stdout",
          "text": [
            "W_query: \n",
            "Parameter containing:\n",
            "tensor([[0.2961, 0.5166],\n",
            "        [0.2517, 0.6886],\n",
            "        [0.0740, 0.8665]])\n",
            "\n",
            "W_key: \n",
            "Parameter containing:\n",
            "tensor([[0.1366, 0.1025],\n",
            "        [0.1841, 0.7264],\n",
            "        [0.3153, 0.6871]])\n",
            "\n",
            "W_value: \n",
            "Parameter containing:\n",
            "tensor([[0.0756, 0.1966],\n",
            "        [0.3164, 0.4017],\n",
            "        [0.1186, 0.8274]])\n"
          ]
        }
      ]
    },
    {
      "cell_type": "code",
      "source": [
        "query = x @ W_query\n",
        "key = x @ W_key\n",
        "value = x @ W_value"
      ],
      "metadata": {
        "id": "s--yxgLbzds_"
      },
      "execution_count": 6,
      "outputs": []
    },
    {
      "cell_type": "code",
      "source": [
        "# For input 2\n",
        "print(f\"query: \\n{query}\")\n",
        "print(f\"\\nkey: \\n{key}\")\n",
        "print(f\"\\nvalue: \\n{value}\")"
      ],
      "metadata": {
        "colab": {
          "base_uri": "https://localhost:8080/"
        },
        "id": "ien_uqMy03Xo",
        "outputId": "6aa5d0c6-0bf3-423a-abe6-2dbccc5cc684"
      },
      "execution_count": 7,
      "outputs": [
        {
          "output_type": "stream",
          "name": "stdout",
          "text": [
            "query: \n",
            "tensor([0.4306, 1.4551])\n",
            "\n",
            "key: \n",
            "tensor([0.4433, 1.1419])\n",
            "\n",
            "value: \n",
            "tensor([0.3951, 1.0037])\n"
          ]
        }
      ]
    },
    {
      "cell_type": "markdown",
      "source": [
        "## **QKV for whole Input**"
      ],
      "metadata": {
        "id": "ClZZs2sf1MEn"
      }
    },
    {
      "cell_type": "code",
      "source": [
        "query = inputs @ W_query\n",
        "key = inputs @ W_key\n",
        "value = inputs @ W_value"
      ],
      "metadata": {
        "id": "GNpu8Apu04rV"
      },
      "execution_count": 8,
      "outputs": []
    },
    {
      "cell_type": "code",
      "source": [
        "print(f\"query: \\n{query}\")\n",
        "print(f\"\\nkey: \\n{key}\")\n",
        "print(f\"\\nvalue: \\n{value}\")"
      ],
      "metadata": {
        "colab": {
          "base_uri": "https://localhost:8080/"
        },
        "id": "ZB_srjUH1Qli",
        "outputId": "10750938-dae9-4340-d376-e4c507692b76"
      },
      "execution_count": 9,
      "outputs": [
        {
          "output_type": "stream",
          "name": "stdout",
          "text": [
            "query: \n",
            "tensor([[0.2309, 1.0966],\n",
            "        [0.4306, 1.4551],\n",
            "        [0.4300, 1.4343],\n",
            "        [0.2355, 0.7990],\n",
            "        [0.2983, 0.6565],\n",
            "        [0.2568, 1.0533]])\n",
            "\n",
            "key: \n",
            "tensor([[0.3669, 0.7646],\n",
            "        [0.4433, 1.1419],\n",
            "        [0.4361, 1.1156],\n",
            "        [0.2408, 0.6706],\n",
            "        [0.1827, 0.3292],\n",
            "        [0.3275, 0.9642]])\n",
            "\n",
            "value: \n",
            "tensor([[0.1855, 0.8812],\n",
            "        [0.3951, 1.0037],\n",
            "        [0.3879, 0.9831],\n",
            "        [0.2393, 0.5493],\n",
            "        [0.1492, 0.3346],\n",
            "        [0.3221, 0.7863]])\n"
          ]
        }
      ]
    },
    {
      "cell_type": "code",
      "source": [
        "query_2 = query[1]\n",
        "key_2 = key[1]\n",
        "\n",
        "attn_scores_2 = query_2.dot(key_2)\n",
        "attn_scores_2"
      ],
      "metadata": {
        "colab": {
          "base_uri": "https://localhost:8080/"
        },
        "id": "qfPVSK0i1WUL",
        "outputId": "b22b2b66-4f99-413d-8885-82abf18b4e8f"
      },
      "execution_count": 10,
      "outputs": [
        {
          "output_type": "execute_result",
          "data": {
            "text/plain": [
              "tensor(1.8524)"
            ]
          },
          "metadata": {},
          "execution_count": 10
        }
      ]
    },
    {
      "cell_type": "code",
      "source": [
        "attn_scores_2 = query_2 @ key.T\n",
        "attn_scores_2"
      ],
      "metadata": {
        "colab": {
          "base_uri": "https://localhost:8080/"
        },
        "id": "X420NTuQ3R_N",
        "outputId": "85449b8a-e29d-42f6-c277-5724f70a04c7"
      },
      "execution_count": 11,
      "outputs": [
        {
          "output_type": "execute_result",
          "data": {
            "text/plain": [
              "tensor([1.2705, 1.8524, 1.8111, 1.0795, 0.5577, 1.5440])"
            ]
          },
          "metadata": {},
          "execution_count": 11
        }
      ]
    },
    {
      "cell_type": "code",
      "source": [
        "# Attention scores\n",
        "attn_scores = query @ key.T\n",
        "attn_scores"
      ],
      "metadata": {
        "colab": {
          "base_uri": "https://localhost:8080/"
        },
        "id": "uoe1J-lj3SaR",
        "outputId": "aee1340b-73c0-4cb5-80a1-47052a711fd4"
      },
      "execution_count": 12,
      "outputs": [
        {
          "output_type": "execute_result",
          "data": {
            "text/plain": [
              "tensor([[0.9231, 1.3545, 1.3241, 0.7910, 0.4032, 1.1330],\n",
              "        [1.2705, 1.8524, 1.8111, 1.0795, 0.5577, 1.5440],\n",
              "        [1.2544, 1.8284, 1.7877, 1.0654, 0.5508, 1.5238],\n",
              "        [0.6973, 1.0167, 0.9941, 0.5925, 0.3061, 0.8475],\n",
              "        [0.6114, 0.8819, 0.8626, 0.5121, 0.2707, 0.7307],\n",
              "        [0.8995, 1.3165, 1.2871, 0.7682, 0.3937, 1.0996]])"
            ]
          },
          "metadata": {},
          "execution_count": 12
        }
      ]
    },
    {
      "cell_type": "code",
      "source": [
        "attn_scores.shape"
      ],
      "metadata": {
        "colab": {
          "base_uri": "https://localhost:8080/"
        },
        "id": "VyHm7dU33-pu",
        "outputId": "d64e3657-500c-480a-a266-32861095e93e"
      },
      "execution_count": 13,
      "outputs": [
        {
          "output_type": "execute_result",
          "data": {
            "text/plain": [
              "torch.Size([6, 6])"
            ]
          },
          "metadata": {},
          "execution_count": 13
        }
      ]
    },
    {
      "cell_type": "markdown",
      "source": [
        "## **Attention Weights**"
      ],
      "metadata": {
        "id": "t_HZpM685bhg"
      }
    },
    {
      "cell_type": "code",
      "source": [
        "d_k = key.shape[1]\n",
        "attn_weights = torch.softmax(attn_scores / d_k ** 0.5, dim = -1)\n",
        "print(f\"Attention weights: \\n{attn_weights}\")"
      ],
      "metadata": {
        "colab": {
          "base_uri": "https://localhost:8080/"
        },
        "id": "a-dGwQeT4CvO",
        "outputId": "5cc1851a-a4c7-47e2-9472-1e71c7b8bc76"
      },
      "execution_count": 15,
      "outputs": [
        {
          "output_type": "stream",
          "name": "stdout",
          "text": [
            "Attention weights: \n",
            "tensor([[0.1551, 0.2104, 0.2059, 0.1413, 0.1074, 0.1799],\n",
            "        [0.1500, 0.2264, 0.2199, 0.1311, 0.0906, 0.1820],\n",
            "        [0.1503, 0.2256, 0.2192, 0.1315, 0.0914, 0.1819],\n",
            "        [0.1591, 0.1994, 0.1962, 0.1477, 0.1206, 0.1769],\n",
            "        [0.1610, 0.1949, 0.1923, 0.1501, 0.1265, 0.1752],\n",
            "        [0.1557, 0.2092, 0.2048, 0.1419, 0.1089, 0.1794]])\n"
          ]
        }
      ]
    },
    {
      "cell_type": "code",
      "source": [
        "context_vector = attn_weights @ value\n",
        "print(f\"Context Vectors: \\n{context_vector}\")"
      ],
      "metadata": {
        "colab": {
          "base_uri": "https://localhost:8080/"
        },
        "id": "3UxtgMUn5hv3",
        "outputId": "a763aeb8-0ef6-4b32-ef3d-3782cf7036ae"
      },
      "execution_count": 18,
      "outputs": [
        {
          "output_type": "stream",
          "name": "stdout",
          "text": [
            "Context Vectors: \n",
            "tensor([[0.2996, 0.8053],\n",
            "        [0.3061, 0.8210],\n",
            "        [0.3058, 0.8203],\n",
            "        [0.2948, 0.7939],\n",
            "        [0.2927, 0.7891],\n",
            "        [0.2990, 0.8040]])\n"
          ]
        }
      ]
    },
    {
      "cell_type": "markdown",
      "source": [
        "## **Self Attention Complete**"
      ],
      "metadata": {
        "id": "QcrjsIczC0E0"
      }
    },
    {
      "cell_type": "code",
      "source": [
        "class SelfAttention(nn.Module):\n",
        "  def __init__(self, d_in, d_out):\n",
        "    super().__init__()\n",
        "    self.W_Query = nn.Parameter(torch.rand(d_in, d_out))\n",
        "    self.W_Value = nn.Parameter(torch.rand(d_in, d_out))\n",
        "    self.W_Key = nn.Parameter(torch.rand(d_in, d_out))\n",
        "\n",
        "  def forward(self, x):\n",
        "    queries = x @ self.W_Query\n",
        "    keys = x @ self.W_Key\n",
        "    values = x @ self.W_Value\n",
        "\n",
        "    attn_scores = queries @ keys.T\n",
        "    attn_weights = torch.softmax(attn_scores / keys.shape[1] ** 0.5, dim = -1)\n",
        "\n",
        "    context_vec = attn_weights @ values\n",
        "    return context_vec"
      ],
      "metadata": {
        "id": "fSK0rNuJBbh6"
      },
      "execution_count": 19,
      "outputs": []
    },
    {
      "cell_type": "code",
      "source": [
        "sa = SelfAttention(d_in = 3, d_out = 2)\n",
        "print(sa(inputs))"
      ],
      "metadata": {
        "colab": {
          "base_uri": "https://localhost:8080/"
        },
        "id": "yZo0KXuYDrRz",
        "outputId": "c031da29-506c-486f-b07a-786f10e150c6"
      },
      "execution_count": 24,
      "outputs": [
        {
          "output_type": "stream",
          "name": "stdout",
          "text": [
            "tensor([[0.7236, 0.8354],\n",
            "        [0.7308, 0.8426],\n",
            "        [0.7306, 0.8425],\n",
            "        [0.7145, 0.8256],\n",
            "        [0.7170, 0.8303],\n",
            "        [0.7179, 0.8283]], grad_fn=<MmBackward0>)\n"
          ]
        }
      ]
    },
    {
      "cell_type": "code",
      "source": [
        "class SelfAttention_V2(nn.Module):\n",
        "  def __init__(self, d_in, d_out, qkv_bias = False):\n",
        "    super().__init__()\n",
        "    self.W_Query = nn.Linear(d_in, d_out, bias = qkv_bias)\n",
        "    self.W_Value = nn.Linear(d_in, d_out, bias = qkv_bias)\n",
        "    self.W_Key = nn.Linear(d_in, d_out, bias = qkv_bias)\n",
        "\n",
        "  def forward(self, x):\n",
        "    keys = self.W_Key(x)\n",
        "    queries = self.W_Query(x)\n",
        "    values = self.W_Value(x)\n",
        "\n",
        "    attn_scores = queries @ keys.T\n",
        "    attn_weights = torch.softmax(attn_scores / keys.shape[1] ** 0.5, dim = -1)\n",
        "\n",
        "    context_vec = attn_weights @ values\n",
        "    return context_vec"
      ],
      "metadata": {
        "id": "GEFSaNIpEccu"
      },
      "execution_count": 25,
      "outputs": []
    },
    {
      "cell_type": "code",
      "source": [
        "sa = SelfAttention_V2(d_in = 3, d_out = 2)\n",
        "print(sa(inputs))"
      ],
      "metadata": {
        "colab": {
          "base_uri": "https://localhost:8080/"
        },
        "id": "bgJo4KZBG_Mr",
        "outputId": "102c3e73-c71c-42db-c39e-7bd6be347697"
      },
      "execution_count": 26,
      "outputs": [
        {
          "output_type": "stream",
          "name": "stdout",
          "text": [
            "tensor([[0.2371, 0.7407],\n",
            "        [0.2305, 0.7362],\n",
            "        [0.2307, 0.7364],\n",
            "        [0.2286, 0.7345],\n",
            "        [0.2338, 0.7396],\n",
            "        [0.2269, 0.7328]], grad_fn=<MmBackward0>)\n"
          ]
        }
      ]
    },
    {
      "cell_type": "code",
      "source": [],
      "metadata": {
        "id": "g76n_WggHBGS"
      },
      "execution_count": null,
      "outputs": []
    }
  ]
}